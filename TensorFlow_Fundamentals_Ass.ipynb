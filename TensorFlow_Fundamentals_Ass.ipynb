{
 "cells": [
  {
   "cell_type": "markdown",
   "id": "77b5ce21",
   "metadata": {},
   "source": [
    "# Part 1: Theoretical Question"
   ]
  },
  {
   "cell_type": "markdown",
   "id": "d1099ee4",
   "metadata": {},
   "source": [
    "# What are the different data structures used in Tensorflow?. Give some examplesc"
   ]
  },
  {
   "cell_type": "code",
   "execution_count": 1,
   "id": "4fc10824",
   "metadata": {},
   "outputs": [],
   "source": [
    "# 1. Tensors\n",
    "# Tensors are the primary data structures in TensorFlow. They are multidimensional arrays that can hold various types of data (e.g., integers, floating-point numbers, strings). Tensors are similar to NumPy arrays and are used to represent data in TensorFlow computations.\n",
    "# import tensorflow as tf\n",
    "\n",
    "# # Creating a constant tensor\n",
    "# tensor = tf.constant([[1, 2], [3, 4]])\n",
    "# print(tensor)\n",
    "\n",
    "# 2. Variables\n",
    "# Variables are used to represent shared, persistent state in a TensorFlow program. They are mutable, meaning their value can be changed during execution.\n",
    "# # Creating a variable\n",
    "# variable = tf.Variable([[1, 2], [3, 4]])\n",
    "# print(variable)\n",
    "\n",
    "# # Updating the variable\n",
    "# variable.assign([[5, 6], [7, 8]])\n",
    "# print(variable)\n",
    "\n",
    "# 3. Datasets\n",
    "# Datasets are used for input pipelines to handle large amounts of data efficiently. TensorFlow's tf.data API provides various methods to create, transform, and manage data pipelines.\n",
    "# # Creating a dataset from a list\n",
    "# dataset = tf.data.Dataset.from_tensor_slices([1, 2, 3, 4, 5])\n",
    "\n",
    "# # Iterating through the dataset\n",
    "# for element in dataset:\n",
    "#     print(element)\n",
    "\n",
    "# 4. Sparse Tensors\n",
    "# Sparse tensors are used to efficiently represent tensors with a large proportion of zero values. They are useful when working with high-dimensional data with many zero entries.\n",
    "# # Creating a sparse tensor\n",
    "# sparse_tensor = tf.SparseTensor(indices=[[0, 0], [1, 2]], values=[1, 2], dense_shape=[3, 4])\n",
    "# print(sparse_tensor)\n",
    "\n",
    "# # Converting to dense tensor\n",
    "# dense_tensor = tf.sparse.to_dense(sparse_tensor)\n",
    "# print(dense_tensor)\n"
   ]
  },
  {
   "cell_type": "markdown",
   "id": "3f46655a",
   "metadata": {},
   "source": [
    "# How does the TensorFlow constant differ from a TensorFlow variable? Explain with an examplec"
   ]
  },
  {
   "cell_type": "code",
   "execution_count": 2,
   "id": "feaffe25",
   "metadata": {},
   "outputs": [],
   "source": [
    "# In TensorFlow, both constants and variables are used to hold values, but they serve different purposes and have distinct properties:\n",
    "\n",
    "# TensorFlow Constants (tf.constant):\n",
    "\n",
    "# Immutable: Once created, the value of a constant cannot be changed.\n",
    "# Typically used to store fixed values, such as hyperparameters or pre-defined weights.\n",
    "# Not trainable: They are not updated during the training process.\n",
    "# import tensorflow as tf\n",
    "\n",
    "# # Creating a constant\n",
    "# constant_tensor = tf.constant([[1, 2], [3, 4]])\n",
    "\n",
    "# # Printing the constant\n",
    "# print(\"TensorFlow Constant:\")\n",
    "# print(constant_tensor)\n",
    "\n",
    "# # Attempting to modify the constant (will not work)\n",
    "# # constant_tensor.assign([[5, 6], [7, 8]])  # This line would raise an error\n",
    "\n",
    "# TensorFlow Variables (tf.Variable):\n",
    "\n",
    "# Mutable: The value of a variable can be modified after creation.\n",
    "# Used to store model parameters that need to be updated during training, such as weights and biases.\n",
    "# Trainable: They are updated during the training process through backpropagation.\n",
    "\n",
    "# import tensorflow as tf\n",
    "\n",
    "# # Creating a variable\n",
    "# variable_tensor = tf.Variable([[1, 2], [3, 4]])\n",
    "\n",
    "# # Printing the variable\n",
    "# print(\"\\nTensorFlow Variable (initial):\")\n",
    "# print(variable_tensor)\n",
    "\n",
    "# # Modifying the variable\n",
    "# variable_tensor.assign([[5, 6], [7, 8]])\n",
    "\n",
    "# # Printing the modified variable\n",
    "# print(\"\\nTensorFlow Variable (modified):\")\n",
    "# print(variable_tensor)\n",
    "\n",
    "    "
   ]
  },
  {
   "cell_type": "markdown",
   "id": "2bd59547",
   "metadata": {},
   "source": [
    "# Describe the process of matrix addition, multiplication, and elementDwise operations in TensorFlow."
   ]
  },
  {
   "cell_type": "code",
   "execution_count": 3,
   "id": "faaf5da2",
   "metadata": {},
   "outputs": [],
   "source": [
    "# TensorFlow provides support for a variety of matrix operations, including matrix addition, multiplication, and element-wise operations. These operations are essential for implementing and optimizing machine learning algorithms.\n",
    "\n",
    "# Matrix Addition\n",
    "# Matrix addition in TensorFlow is performed using the tf.add function or the + operator. The matrices must have the same shape.\n",
    "# import tensorflow as tf\n",
    "\n",
    "# # Define two matrices\n",
    "# matrix_a = tf.constant([[1, 2], [3, 4]])\n",
    "# matrix_b = tf.constant([[5, 6], [7, 8]])\n",
    "\n",
    "# # Perform matrix addition\n",
    "# result = tf.add(matrix_a, matrix_b)\n",
    "# # Alternatively, you can use the + operator\n",
    "# result = matrix_a + matrix_b\n",
    "\n",
    "# print(\"Matrix Addition Result:\")\n",
    "# print(result)\n"
   ]
  },
  {
   "cell_type": "markdown",
   "id": "ef2bdcf7",
   "metadata": {},
   "source": [
    "# Part ®: Practical Implementation\n",
    " # Talk 1: Creating and Manipulating Matricek"
   ]
  },
  {
   "cell_type": "markdown",
   "id": "d68095fc",
   "metadata": {},
   "source": [
    "# Create a normal matrix A with dimensions 2x2, using TensorFlow's random_normal function. Display the values of matrix Ac"
   ]
  },
  {
   "cell_type": "code",
   "execution_count": 4,
   "id": "2bbbfd06",
   "metadata": {},
   "outputs": [],
   "source": [
    "# import tensorflow as tf\n",
    "\n",
    "# # Create a 2x2 matrix using random_normal function\n",
    "# matrix_a = tf.random.normal(shape=(2, 2))\n",
    "\n",
    "# # Start a TensorFlow session and evaluate the matrix\n",
    "# print(\"Matrix A values:\")\n",
    "# print(matrix_a)\n"
   ]
  },
  {
   "cell_type": "markdown",
   "id": "e2419882",
   "metadata": {},
   "source": [
    "# Create a Gaussian matrix B with dimensions x, using TensorFlow's truncated_normal function. Display the values of matrix Bc"
   ]
  },
  {
   "cell_type": "code",
   "execution_count": 5,
   "id": "b6fd81f0",
   "metadata": {},
   "outputs": [],
   "source": [
    "# import tensorflow as tf\n",
    "\n",
    "# # Create a 2x2 matrix using truncated_normal function\n",
    "# matrix_b = tf.random.truncated_normal(shape=(2, 2))\n",
    "\n",
    "# # Start a TensorFlow session and evaluate the matrix\n",
    "# print(\"Matrix B values:\")\n",
    "# print(matrix_b)\n"
   ]
  },
  {
   "cell_type": "markdown",
   "id": "5b63784a",
   "metadata": {},
   "source": [
    "# Create a matrix C with dimensions 2x2, where the values are drawn from a normal distribution with a mean of 2 and a standard deviation of 0.x, using TensorFlow's random.normal function. Display the values of matrix Cc"
   ]
  },
  {
   "cell_type": "code",
   "execution_count": 6,
   "id": "f51586d2",
   "metadata": {},
   "outputs": [],
   "source": [
    "# import tensorflow as tf\n",
    "\n",
    "# # Create a 2x2 matrix using random.normal function\n",
    "# matrix_c = tf.random.normal(shape=(2, 2), mean=2.0, stddev=0.5)\n",
    "\n",
    "# # Start a TensorFlow session and evaluate the matrix\n",
    "# print(\"Matrix C values:\")\n",
    "# print(matrix_c)\n"
   ]
  },
  {
   "cell_type": "markdown",
   "id": "63209ff1",
   "metadata": {},
   "source": [
    "# Task 2: Performing Additional Matrix Operations"
   ]
  },
  {
   "cell_type": "markdown",
   "id": "d8ae6b4f",
   "metadata": {},
   "source": [
    "# Create a matrix F with dimensions 2x2, initialized with random values using TensorFlow's random_uniform function"
   ]
  },
  {
   "cell_type": "code",
   "execution_count": 8,
   "id": "ff3c90f9",
   "metadata": {},
   "outputs": [],
   "source": [
    "# import tensorflow as tf\n",
    "\n",
    "# # Create a 2x2 matrix using random.uniform function\n",
    "# matrix_f = tf.random.uniform(shape=(2, 2))\n",
    "\n",
    "# # Start a TensorFlow session and evaluate the matrix\n",
    "# print(\"Matrix F values:\")\n",
    "# print(matrix_f)\n"
   ]
  },
  {
   "cell_type": "markdown",
   "id": "b8f3bcb4",
   "metadata": {},
   "source": [
    "# Calculate the transpose of matrix F and store the result in matrix Gc"
   ]
  },
  {
   "cell_type": "code",
   "execution_count": 9,
   "id": "58e6eb73",
   "metadata": {},
   "outputs": [],
   "source": [
    "# import tensorflow as tf\n",
    "\n",
    "# # Create a 2x2 matrix using random.uniform function\n",
    "# matrix_f = tf.random.uniform(shape=(2, 2))\n",
    "\n",
    "# # Calculate the transpose of matrix F\n",
    "# matrix_g = tf.transpose(matrix_f)\n",
    "\n",
    "# # Start a TensorFlow session to evaluate the matrices\n",
    "# print(\"Matrix F values:\")\n",
    "# print(matrix_f.numpy())\n",
    "\n",
    "# print(\"\\nMatrix G (Transpose of F) values:\")\n",
    "# print(matrix_g.numpy())\n"
   ]
  },
  {
   "cell_type": "markdown",
   "id": "c52c152b",
   "metadata": {},
   "source": [
    "# Calculate the elementDwise exponential of matrix F and store the result in matrix H"
   ]
  },
  {
   "cell_type": "code",
   "execution_count": null,
   "id": "795b6095",
   "metadata": {},
   "outputs": [],
   "source": [
    "# import tensorflow as tf\n",
    "\n",
    "# # Create a 2x2 matrix using random.uniform function\n",
    "# matrix_f = tf.random.uniform(shape=(2, 2))\n",
    "\n",
    "# # Calculate the element-wise exponential of matrix F\n",
    "# matrix_h = tf.exp(matrix_f)\n",
    "\n",
    "# # Start a TensorFlow session to evaluate the matrices\n",
    "# print(\"Matrix F values:\")\n",
    "# print(matrix_f.numpy())\n",
    "\n",
    "# print(\"\\nMatrix H (Element-wise Exponential of F) values:\")\n",
    "# print(matrix_h.numpy())\n"
   ]
  }
 ],
 "metadata": {
  "kernelspec": {
   "display_name": "Python 3 (ipykernel)",
   "language": "python",
   "name": "python3"
  },
  "language_info": {
   "codemirror_mode": {
    "name": "ipython",
    "version": 3
   },
   "file_extension": ".py",
   "mimetype": "text/x-python",
   "name": "python",
   "nbconvert_exporter": "python",
   "pygments_lexer": "ipython3",
   "version": "3.11.5"
  }
 },
 "nbformat": 4,
 "nbformat_minor": 5
}
